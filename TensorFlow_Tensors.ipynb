{
  "nbformat": 4,
  "nbformat_minor": 0,
  "metadata": {
    "colab": {
      "provenance": []
    },
    "kernelspec": {
      "name": "python3",
      "display_name": "Python 3"
    },
    "language_info": {
      "name": "python"
    }
  },
  "cells": [
    {
      "cell_type": "code",
      "execution_count": 1,
      "metadata": {
        "id": "3JUTNWHfTCfM"
      },
      "outputs": [],
      "source": [
        "import tensorflow as tf"
      ]
    },
    {
      "cell_type": "code",
      "source": [
        "tensor_zero_d = tf.constant(4)\n",
        "tensor_zero_d.ndim"
      ],
      "metadata": {
        "colab": {
          "base_uri": "https://localhost:8080/"
        },
        "id": "DoArC_TzTeP5",
        "outputId": "5c509005-c0b0-428d-f1e5-24de2a41a4a7"
      },
      "execution_count": 2,
      "outputs": [
        {
          "output_type": "execute_result",
          "data": {
            "text/plain": [
              "0"
            ]
          },
          "metadata": {},
          "execution_count": 2
        }
      ]
    },
    {
      "cell_type": "code",
      "source": [
        "tensor_zero_d.shape"
      ],
      "metadata": {
        "colab": {
          "base_uri": "https://localhost:8080/"
        },
        "id": "VilXugacUgKX",
        "outputId": "3a58e297-2c60-4da9-b2cf-913e3d536886"
      },
      "execution_count": 3,
      "outputs": [
        {
          "output_type": "execute_result",
          "data": {
            "text/plain": [
              "TensorShape([])"
            ]
          },
          "metadata": {},
          "execution_count": 3
        }
      ]
    },
    {
      "cell_type": "code",
      "source": [
        "tensor_zero_d"
      ],
      "metadata": {
        "colab": {
          "base_uri": "https://localhost:8080/"
        },
        "id": "hhCcZsWPUlu3",
        "outputId": "6d3f54f7-34bc-4867-9592-6a5c94c2148d"
      },
      "execution_count": 4,
      "outputs": [
        {
          "output_type": "execute_result",
          "data": {
            "text/plain": [
              "<tf.Tensor: shape=(), dtype=int32, numpy=4>"
            ]
          },
          "metadata": {},
          "execution_count": 4
        }
      ]
    },
    {
      "cell_type": "code",
      "source": [
        "print(tensor_zero_d)"
      ],
      "metadata": {
        "colab": {
          "base_uri": "https://localhost:8080/"
        },
        "id": "huzzAqdDTn9h",
        "outputId": "be6b8751-955c-4fb9-f925-5a38c9760683"
      },
      "execution_count": 5,
      "outputs": [
        {
          "output_type": "stream",
          "name": "stdout",
          "text": [
            "tf.Tensor(4, shape=(), dtype=int32)\n"
          ]
        }
      ]
    },
    {
      "cell_type": "code",
      "source": [
        "tensor_one_d = tf.constant([2, 0, 3, 8, 90])\n",
        "tensor_one_d.ndim"
      ],
      "metadata": {
        "colab": {
          "base_uri": "https://localhost:8080/"
        },
        "id": "6URTMbIBTtFL",
        "outputId": "afa16557-f2eb-48fb-d0f6-b214d4939851"
      },
      "execution_count": 6,
      "outputs": [
        {
          "output_type": "execute_result",
          "data": {
            "text/plain": [
              "1"
            ]
          },
          "metadata": {},
          "execution_count": 6
        }
      ]
    },
    {
      "cell_type": "code",
      "source": [
        "print(tensor_one_d)"
      ],
      "metadata": {
        "colab": {
          "base_uri": "https://localhost:8080/"
        },
        "id": "1upxojY7T-RJ",
        "outputId": "8ed8152b-c48b-48f3-be7a-e03b82582ccd"
      },
      "execution_count": 7,
      "outputs": [
        {
          "output_type": "stream",
          "name": "stdout",
          "text": [
            "tf.Tensor([ 2  0  3  8 90], shape=(5,), dtype=int32)\n"
          ]
        }
      ]
    },
    {
      "cell_type": "code",
      "source": [
        "tensor_one_d.shape"
      ],
      "metadata": {
        "colab": {
          "base_uri": "https://localhost:8080/"
        },
        "id": "YWnxLQG5UoGe",
        "outputId": "ee954ff0-13a1-4932-ae02-98bbada9bfd0"
      },
      "execution_count": 8,
      "outputs": [
        {
          "output_type": "execute_result",
          "data": {
            "text/plain": [
              "TensorShape([5])"
            ]
          },
          "metadata": {},
          "execution_count": 8
        }
      ]
    },
    {
      "cell_type": "code",
      "source": [
        "tensor_one_d"
      ],
      "metadata": {
        "colab": {
          "base_uri": "https://localhost:8080/"
        },
        "id": "Gr4N2u3gYKy1",
        "outputId": "fdbfb296-141c-4c43-9a0c-7475407e5b31"
      },
      "execution_count": 9,
      "outputs": [
        {
          "output_type": "execute_result",
          "data": {
            "text/plain": [
              "<tf.Tensor: shape=(5,), dtype=int32, numpy=array([ 2,  0,  3,  8, 90], dtype=int32)>"
            ]
          },
          "metadata": {},
          "execution_count": 9
        }
      ]
    },
    {
      "cell_type": "code",
      "source": [
        "tensor_two_d = tf.constant([\n",
        "    [1, 2, 0],\n",
        "    [3, 5, -1],\n",
        "    [1, 5, 6],\n",
        "    [2, 3, 8]\n",
        "])\n",
        "tensor_two_d.ndim"
      ],
      "metadata": {
        "colab": {
          "base_uri": "https://localhost:8080/"
        },
        "id": "97sfR4cJWWo8",
        "outputId": "a2c352b6-2374-4e52-a4a5-9ab33c10b73b"
      },
      "execution_count": 10,
      "outputs": [
        {
          "output_type": "execute_result",
          "data": {
            "text/plain": [
              "2"
            ]
          },
          "metadata": {},
          "execution_count": 10
        }
      ]
    },
    {
      "cell_type": "code",
      "source": [
        "tensor_two_d"
      ],
      "metadata": {
        "colab": {
          "base_uri": "https://localhost:8080/"
        },
        "id": "2PY4pYGBWmE8",
        "outputId": "b098dd8e-1a45-4ae0-b139-dec04d676208"
      },
      "execution_count": 11,
      "outputs": [
        {
          "output_type": "execute_result",
          "data": {
            "text/plain": [
              "<tf.Tensor: shape=(4, 3), dtype=int32, numpy=\n",
              "array([[ 1,  2,  0],\n",
              "       [ 3,  5, -1],\n",
              "       [ 1,  5,  6],\n",
              "       [ 2,  3,  8]], dtype=int32)>"
            ]
          },
          "metadata": {},
          "execution_count": 11
        }
      ]
    },
    {
      "cell_type": "code",
      "source": [
        "print(tensor_two_d)"
      ],
      "metadata": {
        "colab": {
          "base_uri": "https://localhost:8080/"
        },
        "id": "WC48mEX0Yy_d",
        "outputId": "61ed0580-c835-4b50-dee8-c9feddcaae63"
      },
      "execution_count": 12,
      "outputs": [
        {
          "output_type": "stream",
          "name": "stdout",
          "text": [
            "tf.Tensor(\n",
            "[[ 1  2  0]\n",
            " [ 3  5 -1]\n",
            " [ 1  5  6]\n",
            " [ 2  3  8]], shape=(4, 3), dtype=int32)\n"
          ]
        }
      ]
    },
    {
      "cell_type": "code",
      "source": [
        "tensor_two_d.shape"
      ],
      "metadata": {
        "colab": {
          "base_uri": "https://localhost:8080/"
        },
        "id": "nvynUcBcYy5e",
        "outputId": "8107131a-239b-4878-9f20-d5136915ae3d"
      },
      "execution_count": 13,
      "outputs": [
        {
          "output_type": "execute_result",
          "data": {
            "text/plain": [
              "TensorShape([4, 3])"
            ]
          },
          "metadata": {},
          "execution_count": 13
        }
      ]
    },
    {
      "cell_type": "code",
      "source": [
        "tensor_three_d = tf.constant([\n",
        "    [[1, 2, 0],\n",
        "     [3, 5, -1]],\n",
        "\n",
        "    [[10, 2, 0],\n",
        "     [1, 0, 2]],\n",
        "\n",
        "    [[5, 8, 0],\n",
        "     [2, 7, 0]],\n",
        "\n",
        "    [[2, 1, 9],\n",
        "     [4, -3, 32]]\n",
        "])\n",
        "\n",
        "tensor_three_d\n"
      ],
      "metadata": {
        "colab": {
          "base_uri": "https://localhost:8080/"
        },
        "id": "2w77U-kLZb-J",
        "outputId": "603eb630-d068-49ab-e6de-e85c27d5fe40"
      },
      "execution_count": 14,
      "outputs": [
        {
          "output_type": "execute_result",
          "data": {
            "text/plain": [
              "<tf.Tensor: shape=(4, 2, 3), dtype=int32, numpy=\n",
              "array([[[ 1,  2,  0],\n",
              "        [ 3,  5, -1]],\n",
              "\n",
              "       [[10,  2,  0],\n",
              "        [ 1,  0,  2]],\n",
              "\n",
              "       [[ 5,  8,  0],\n",
              "        [ 2,  7,  0]],\n",
              "\n",
              "       [[ 2,  1,  9],\n",
              "        [ 4, -3, 32]]], dtype=int32)>"
            ]
          },
          "metadata": {},
          "execution_count": 14
        }
      ]
    },
    {
      "cell_type": "code",
      "source": [
        "print(tensor_three_d)"
      ],
      "metadata": {
        "colab": {
          "base_uri": "https://localhost:8080/"
        },
        "id": "VGO7RrW6aaHK",
        "outputId": "dca73376-1132-44b1-839e-fff92bd88d78"
      },
      "execution_count": 15,
      "outputs": [
        {
          "output_type": "stream",
          "name": "stdout",
          "text": [
            "tf.Tensor(\n",
            "[[[ 1  2  0]\n",
            "  [ 3  5 -1]]\n",
            "\n",
            " [[10  2  0]\n",
            "  [ 1  0  2]]\n",
            "\n",
            " [[ 5  8  0]\n",
            "  [ 2  7  0]]\n",
            "\n",
            " [[ 2  1  9]\n",
            "  [ 4 -3 32]]], shape=(4, 2, 3), dtype=int32)\n"
          ]
        }
      ]
    },
    {
      "cell_type": "code",
      "source": [
        "tensor_three_d.ndim"
      ],
      "metadata": {
        "colab": {
          "base_uri": "https://localhost:8080/"
        },
        "id": "FTwf58nVabmt",
        "outputId": "f24b70d7-ac60-4a5f-e575-cffb1ee198c3"
      },
      "execution_count": 16,
      "outputs": [
        {
          "output_type": "execute_result",
          "data": {
            "text/plain": [
              "3"
            ]
          },
          "metadata": {},
          "execution_count": 16
        }
      ]
    },
    {
      "cell_type": "code",
      "source": [
        "tensor_three_d.shape"
      ],
      "metadata": {
        "colab": {
          "base_uri": "https://localhost:8080/"
        },
        "id": "VmVi0XEMadCo",
        "outputId": "9193e585-b91a-44b9-b45d-673eed330c52"
      },
      "execution_count": 17,
      "outputs": [
        {
          "output_type": "execute_result",
          "data": {
            "text/plain": [
              "TensorShape([4, 2, 3])"
            ]
          },
          "metadata": {},
          "execution_count": 17
        }
      ]
    },
    {
      "cell_type": "code",
      "source": [
        "tensor_four_d = tf.constant([\n",
        "\n",
        "[\n",
        "    [[1,2,0],\n",
        "    [3,5,-1]],\n",
        "\n",
        "    [[10,2,0],\n",
        "    [1,0,2]],\n",
        "\n",
        "    [[5,8,0],\n",
        "    [2,7,0]],\n",
        "\n",
        "    [[2,1,9],\n",
        "    [4,-3,32]],\n",
        "\n",
        "],\n",
        "\n",
        "[\n",
        "    [[13,26,0],\n",
        "    [3,5,-12]],\n",
        "\n",
        "    [[10,2,0],\n",
        "    [1,0,23]],\n",
        "\n",
        "    [[5,8,0],\n",
        "    [2,73,0]],\n",
        "\n",
        "    [[2,1,9],\n",
        "    [4,-30,32]],\n",
        "\n",
        "],\n",
        "\n",
        "[\n",
        "    [[103,26,0],\n",
        "    [3,50,-12]],\n",
        "\n",
        "    [[100,2,0],\n",
        "    [1,0,23]],\n",
        "\n",
        "    [[5,28,0],\n",
        "    [2,3,0]],\n",
        "\n",
        "    [[22,1,9],\n",
        "    [44,-320,32]],\n",
        "\n",
        "],\n",
        "\n",
        "])\n",
        "\n",
        "tensor_four_d"
      ],
      "metadata": {
        "colab": {
          "base_uri": "https://localhost:8080/"
        },
        "id": "XM58AhVka15y",
        "outputId": "0ec4776f-2222-429e-f7b2-506385b734e0"
      },
      "execution_count": 18,
      "outputs": [
        {
          "output_type": "execute_result",
          "data": {
            "text/plain": [
              "<tf.Tensor: shape=(3, 4, 2, 3), dtype=int32, numpy=\n",
              "array([[[[   1,    2,    0],\n",
              "         [   3,    5,   -1]],\n",
              "\n",
              "        [[  10,    2,    0],\n",
              "         [   1,    0,    2]],\n",
              "\n",
              "        [[   5,    8,    0],\n",
              "         [   2,    7,    0]],\n",
              "\n",
              "        [[   2,    1,    9],\n",
              "         [   4,   -3,   32]]],\n",
              "\n",
              "\n",
              "       [[[  13,   26,    0],\n",
              "         [   3,    5,  -12]],\n",
              "\n",
              "        [[  10,    2,    0],\n",
              "         [   1,    0,   23]],\n",
              "\n",
              "        [[   5,    8,    0],\n",
              "         [   2,   73,    0]],\n",
              "\n",
              "        [[   2,    1,    9],\n",
              "         [   4,  -30,   32]]],\n",
              "\n",
              "\n",
              "       [[[ 103,   26,    0],\n",
              "         [   3,   50,  -12]],\n",
              "\n",
              "        [[ 100,    2,    0],\n",
              "         [   1,    0,   23]],\n",
              "\n",
              "        [[   5,   28,    0],\n",
              "         [   2,    3,    0]],\n",
              "\n",
              "        [[  22,    1,    9],\n",
              "         [  44, -320,   32]]]], dtype=int32)>"
            ]
          },
          "metadata": {},
          "execution_count": 18
        }
      ]
    },
    {
      "cell_type": "code",
      "source": [
        "print(tensor_four_d)"
      ],
      "metadata": {
        "colab": {
          "base_uri": "https://localhost:8080/"
        },
        "id": "jcC09I7_ciLx",
        "outputId": "dacbd8e8-3efe-4018-80f0-fa1e4b379bfc"
      },
      "execution_count": 19,
      "outputs": [
        {
          "output_type": "stream",
          "name": "stdout",
          "text": [
            "tf.Tensor(\n",
            "[[[[   1    2    0]\n",
            "   [   3    5   -1]]\n",
            "\n",
            "  [[  10    2    0]\n",
            "   [   1    0    2]]\n",
            "\n",
            "  [[   5    8    0]\n",
            "   [   2    7    0]]\n",
            "\n",
            "  [[   2    1    9]\n",
            "   [   4   -3   32]]]\n",
            "\n",
            "\n",
            " [[[  13   26    0]\n",
            "   [   3    5  -12]]\n",
            "\n",
            "  [[  10    2    0]\n",
            "   [   1    0   23]]\n",
            "\n",
            "  [[   5    8    0]\n",
            "   [   2   73    0]]\n",
            "\n",
            "  [[   2    1    9]\n",
            "   [   4  -30   32]]]\n",
            "\n",
            "\n",
            " [[[ 103   26    0]\n",
            "   [   3   50  -12]]\n",
            "\n",
            "  [[ 100    2    0]\n",
            "   [   1    0   23]]\n",
            "\n",
            "  [[   5   28    0]\n",
            "   [   2    3    0]]\n",
            "\n",
            "  [[  22    1    9]\n",
            "   [  44 -320   32]]]], shape=(3, 4, 2, 3), dtype=int32)\n"
          ]
        }
      ]
    },
    {
      "cell_type": "code",
      "source": [
        "tensor_four_d.ndim"
      ],
      "metadata": {
        "colab": {
          "base_uri": "https://localhost:8080/"
        },
        "id": "tCULcpg3cmlT",
        "outputId": "b6c936af-bc63-41a7-ee12-689c00d140fc"
      },
      "execution_count": 20,
      "outputs": [
        {
          "output_type": "execute_result",
          "data": {
            "text/plain": [
              "4"
            ]
          },
          "metadata": {},
          "execution_count": 20
        }
      ]
    },
    {
      "cell_type": "code",
      "source": [
        "tensor_four_d.shape"
      ],
      "metadata": {
        "colab": {
          "base_uri": "https://localhost:8080/"
        },
        "id": "L0dbbe81coML",
        "outputId": "3f61f753-950a-49ff-e5b9-3d0a47c7e596"
      },
      "execution_count": 21,
      "outputs": [
        {
          "output_type": "execute_result",
          "data": {
            "text/plain": [
              "TensorShape([3, 4, 2, 3])"
            ]
          },
          "metadata": {},
          "execution_count": 21
        }
      ]
    },
    {
      "cell_type": "code",
      "source": [
        "tensor_one_d = tf.constant([2, 0, 3, 8, 90], dtype=tf.float32)\n",
        "\n",
        "casted_tensor_one_d = tf.cast(tensor_one_d, dtype=tf.bool)\n",
        "print(tensor_one_d)\n",
        "print(casted_tensor_one_d)"
      ],
      "metadata": {
        "colab": {
          "base_uri": "https://localhost:8080/"
        },
        "id": "2BdwVObScuNA",
        "outputId": "7bd8f418-41d9-4181-8260-99b5a45cce4a"
      },
      "execution_count": 22,
      "outputs": [
        {
          "output_type": "stream",
          "name": "stdout",
          "text": [
            "tf.Tensor([ 2.  0.  3.  8. 90.], shape=(5,), dtype=float32)\n",
            "tf.Tensor([ True False  True  True  True], shape=(5,), dtype=bool)\n"
          ]
        }
      ]
    },
    {
      "cell_type": "code",
      "source": [
        "tensor_string = tf.constant([\"hello world\", \"hi\"])\n",
        "\n",
        "tensor_string"
      ],
      "metadata": {
        "colab": {
          "base_uri": "https://localhost:8080/"
        },
        "id": "BED0mfYaiQlE",
        "outputId": "0a4b882d-8ff8-4095-ed35-f8aea1410fa7"
      },
      "execution_count": 23,
      "outputs": [
        {
          "output_type": "execute_result",
          "data": {
            "text/plain": [
              "<tf.Tensor: shape=(2,), dtype=string, numpy=array([b'hello world', b'hi'], dtype=object)>"
            ]
          },
          "metadata": {},
          "execution_count": 23
        }
      ]
    },
    {
      "cell_type": "code",
      "source": [
        "print(tensor_string)"
      ],
      "metadata": {
        "colab": {
          "base_uri": "https://localhost:8080/"
        },
        "id": "47jms-kTiZtK",
        "outputId": "b6025d3f-16c7-40eb-d7b7-a2ba1008c7dc"
      },
      "execution_count": 24,
      "outputs": [
        {
          "output_type": "stream",
          "name": "stdout",
          "text": [
            "tf.Tensor([b'hello world' b'hi'], shape=(2,), dtype=string)\n"
          ]
        }
      ]
    },
    {
      "cell_type": "code",
      "source": [
        "tensor_string.shape"
      ],
      "metadata": {
        "colab": {
          "base_uri": "https://localhost:8080/"
        },
        "id": "kpVt5Tj6ibw6",
        "outputId": "d6702f1d-4d7e-4a99-eff2-9a0f58cd77bb"
      },
      "execution_count": 25,
      "outputs": [
        {
          "output_type": "execute_result",
          "data": {
            "text/plain": [
              "TensorShape([2])"
            ]
          },
          "metadata": {},
          "execution_count": 25
        }
      ]
    },
    {
      "cell_type": "code",
      "source": [
        "tensor_string.ndim"
      ],
      "metadata": {
        "colab": {
          "base_uri": "https://localhost:8080/"
        },
        "id": "6KjnszMaidtr",
        "outputId": "5dba0edb-807f-46d8-8972-40373b0fc4ad"
      },
      "execution_count": 26,
      "outputs": [
        {
          "output_type": "execute_result",
          "data": {
            "text/plain": [
              "1"
            ]
          },
          "metadata": {},
          "execution_count": 26
        }
      ]
    },
    {
      "cell_type": "code",
      "source": [
        "import numpy as np"
      ],
      "metadata": {
        "id": "I1MbdO_AihMC"
      },
      "execution_count": 27,
      "outputs": []
    },
    {
      "cell_type": "code",
      "source": [
        "np_array = np.array([1, 2, 3, 4])\n",
        "np_array"
      ],
      "metadata": {
        "colab": {
          "base_uri": "https://localhost:8080/"
        },
        "id": "UibCOT-Si5P5",
        "outputId": "d0b79949-fff8-44e4-c3e1-76b520566c2f"
      },
      "execution_count": 28,
      "outputs": [
        {
          "output_type": "execute_result",
          "data": {
            "text/plain": [
              "array([1, 2, 3, 4])"
            ]
          },
          "metadata": {},
          "execution_count": 28
        }
      ]
    },
    {
      "cell_type": "code",
      "source": [
        "converted_tensor = tf.convert_to_tensor(np_array)\n",
        "converted_tensor"
      ],
      "metadata": {
        "colab": {
          "base_uri": "https://localhost:8080/"
        },
        "id": "KxpBy6KTkB-n",
        "outputId": "a00fca81-14fd-4dfa-f6b3-3bf5170695dd"
      },
      "execution_count": 29,
      "outputs": [
        {
          "output_type": "execute_result",
          "data": {
            "text/plain": [
              "<tf.Tensor: shape=(4,), dtype=int64, numpy=array([1, 2, 3, 4])>"
            ]
          },
          "metadata": {},
          "execution_count": 29
        }
      ]
    },
    {
      "cell_type": "code",
      "source": [
        "eye_tensor = tf.eye(\n",
        "    num_rows=3,\n",
        "    num_columns=None,\n",
        "    batch_shape=None,\n",
        "    dtype=tf.dtypes.float32,\n",
        "    name=None\n",
        ")\n",
        "eye_tensor"
      ],
      "metadata": {
        "colab": {
          "base_uri": "https://localhost:8080/"
        },
        "id": "rBCKVcbzkIGP",
        "outputId": "57306f31-5723-4598-f333-ec4161c01e62"
      },
      "execution_count": 30,
      "outputs": [
        {
          "output_type": "execute_result",
          "data": {
            "text/plain": [
              "<tf.Tensor: shape=(3, 3), dtype=float32, numpy=\n",
              "array([[1., 0., 0.],\n",
              "       [0., 1., 0.],\n",
              "       [0., 0., 1.]], dtype=float32)>"
            ]
          },
          "metadata": {},
          "execution_count": 30
        }
      ]
    },
    {
      "cell_type": "code",
      "source": [
        "print(eye_tensor)"
      ],
      "metadata": {
        "colab": {
          "base_uri": "https://localhost:8080/"
        },
        "id": "m22InQV2mH5s",
        "outputId": "9a481273-c3ee-4140-e4f7-63f0bda27a38"
      },
      "execution_count": 31,
      "outputs": [
        {
          "output_type": "stream",
          "name": "stdout",
          "text": [
            "tf.Tensor(\n",
            "[[1. 0. 0.]\n",
            " [0. 1. 0.]\n",
            " [0. 0. 1.]], shape=(3, 3), dtype=float32)\n"
          ]
        }
      ]
    },
    {
      "cell_type": "code",
      "source": [
        "eye_tensor.shape"
      ],
      "metadata": {
        "colab": {
          "base_uri": "https://localhost:8080/"
        },
        "id": "Ik2rknRpmKEe",
        "outputId": "83d353b6-ed24-41c0-9435-f1418e001853"
      },
      "execution_count": 32,
      "outputs": [
        {
          "output_type": "execute_result",
          "data": {
            "text/plain": [
              "TensorShape([3, 3])"
            ]
          },
          "metadata": {},
          "execution_count": 32
        }
      ]
    },
    {
      "cell_type": "code",
      "source": [
        "eye_tensor.ndim"
      ],
      "metadata": {
        "colab": {
          "base_uri": "https://localhost:8080/"
        },
        "id": "6QjZ5TJmmMFZ",
        "outputId": "dec72063-7bcd-4013-f2e4-b9e94c787b0b"
      },
      "execution_count": 33,
      "outputs": [
        {
          "output_type": "execute_result",
          "data": {
            "text/plain": [
              "2"
            ]
          },
          "metadata": {},
          "execution_count": 33
        }
      ]
    },
    {
      "cell_type": "code",
      "source": [
        "print(3 * eye_tensor)"
      ],
      "metadata": {
        "colab": {
          "base_uri": "https://localhost:8080/"
        },
        "id": "VetPOa0mmO-i",
        "outputId": "99ba4f43-e891-428f-ee3f-acbda58550c5"
      },
      "execution_count": 34,
      "outputs": [
        {
          "output_type": "stream",
          "name": "stdout",
          "text": [
            "tf.Tensor(\n",
            "[[3. 0. 0.]\n",
            " [0. 3. 0.]\n",
            " [0. 0. 3.]], shape=(3, 3), dtype=float32)\n"
          ]
        }
      ]
    },
    {
      "cell_type": "code",
      "source": [
        "eye_tensor = tf.eye(\n",
        "    num_rows=3,\n",
        "    num_columns=None,\n",
        "    batch_shape=None,\n",
        "    dtype=tf.dtypes.bool,\n",
        "    name=None\n",
        ")\n",
        "print(eye_tensor)"
      ],
      "metadata": {
        "colab": {
          "base_uri": "https://localhost:8080/"
        },
        "id": "fcjd6XRzmadK",
        "outputId": "2857c0d6-71ad-4379-cbf0-8a66a58c34cd"
      },
      "execution_count": 35,
      "outputs": [
        {
          "output_type": "stream",
          "name": "stdout",
          "text": [
            "tf.Tensor(\n",
            "[[ True False False]\n",
            " [False  True False]\n",
            " [False False  True]], shape=(3, 3), dtype=bool)\n"
          ]
        }
      ]
    },
    {
      "cell_type": "code",
      "source": [
        "eye_tensor = tf.eye(\n",
        "    num_rows=3,\n",
        "    num_columns=None,\n",
        "    batch_shape=[4,],\n",
        "    dtype=tf.dtypes.bool,\n",
        "    name=None\n",
        ")\n",
        "print(eye_tensor)"
      ],
      "metadata": {
        "colab": {
          "base_uri": "https://localhost:8080/"
        },
        "id": "PqpvKoBCmnJ9",
        "outputId": "cecf7e43-5fd5-4d07-8967-59afa25b538f"
      },
      "execution_count": 36,
      "outputs": [
        {
          "output_type": "stream",
          "name": "stdout",
          "text": [
            "tf.Tensor(\n",
            "[[[ True False False]\n",
            "  [False  True False]\n",
            "  [False False  True]]\n",
            "\n",
            " [[ True False False]\n",
            "  [False  True False]\n",
            "  [False False  True]]\n",
            "\n",
            " [[ True False False]\n",
            "  [False  True False]\n",
            "  [False False  True]]\n",
            "\n",
            " [[ True False False]\n",
            "  [False  True False]\n",
            "  [False False  True]]], shape=(4, 3, 3), dtype=bool)\n"
          ]
        }
      ]
    },
    {
      "cell_type": "code",
      "source": [
        "fill_tensor = tf.fill(\n",
        "    [3, 4], 9, name=None\n",
        ")\n",
        "print(fill_tensor)"
      ],
      "metadata": {
        "colab": {
          "base_uri": "https://localhost:8080/"
        },
        "id": "DMg5E5JAnE1a",
        "outputId": "11881379-6e52-4140-8c50-cbfa37607234"
      },
      "execution_count": 37,
      "outputs": [
        {
          "output_type": "stream",
          "name": "stdout",
          "text": [
            "tf.Tensor(\n",
            "[[9 9 9 9]\n",
            " [9 9 9 9]\n",
            " [9 9 9 9]], shape=(3, 4), dtype=int32)\n"
          ]
        }
      ]
    },
    {
      "cell_type": "code",
      "source": [
        "ones_tensor = tf.ones(\n",
        "    [3, 4],\n",
        "    dtype = tf.dtypes.float32,\n",
        "    name=None\n",
        ")\n",
        "print(ones_tensor)"
      ],
      "metadata": {
        "colab": {
          "base_uri": "https://localhost:8080/"
        },
        "id": "OAfNKnfvpDy_",
        "outputId": "95f887b0-de2f-431f-aff1-041341f4c7a4"
      },
      "execution_count": 38,
      "outputs": [
        {
          "output_type": "stream",
          "name": "stdout",
          "text": [
            "tf.Tensor(\n",
            "[[1. 1. 1. 1.]\n",
            " [1. 1. 1. 1.]\n",
            " [1. 1. 1. 1.]], shape=(3, 4), dtype=float32)\n"
          ]
        }
      ]
    },
    {
      "cell_type": "code",
      "source": [
        "ones_tensor = tf.ones(\n",
        "    [3, 4],\n",
        "    dtype = tf.dtypes.float32,\n",
        "    name=None\n",
        ")\n",
        "print(ones_tensor)"
      ],
      "metadata": {
        "id": "rAbCF6vpptPE",
        "colab": {
          "base_uri": "https://localhost:8080/"
        },
        "outputId": "48f65277-779f-4d08-989c-835e253c37c1"
      },
      "execution_count": 39,
      "outputs": [
        {
          "output_type": "stream",
          "name": "stdout",
          "text": [
            "tf.Tensor(\n",
            "[[1. 1. 1. 1.]\n",
            " [1. 1. 1. 1.]\n",
            " [1. 1. 1. 1.]], shape=(3, 4), dtype=float32)\n"
          ]
        }
      ]
    },
    {
      "cell_type": "code",
      "source": [
        "zeros_tensor = tf.zeros(\n",
        "    [3, 2],\n",
        "    dtype = tf.dtypes.float32,\n",
        "    name=None\n",
        ")\n",
        "print(zeros_tensor)"
      ],
      "metadata": {
        "colab": {
          "base_uri": "https://localhost:8080/"
        },
        "id": "u4EnxIDWTg-f",
        "outputId": "5824f3ab-dc2d-4f5d-e31c-9cf207750125"
      },
      "execution_count": 40,
      "outputs": [
        {
          "output_type": "stream",
          "name": "stdout",
          "text": [
            "tf.Tensor(\n",
            "[[0. 0.]\n",
            " [0. 0.]\n",
            " [0. 0.]], shape=(3, 2), dtype=float32)\n"
          ]
        }
      ]
    },
    {
      "cell_type": "code",
      "source": [
        "print(tensor_three_d.shape)"
      ],
      "metadata": {
        "colab": {
          "base_uri": "https://localhost:8080/"
        },
        "id": "kjkW6iiMTnDR",
        "outputId": "6d943508-7012-4f18-b243-f318803b4b67"
      },
      "execution_count": 41,
      "outputs": [
        {
          "output_type": "stream",
          "name": "stdout",
          "text": [
            "(4, 2, 3)\n"
          ]
        }
      ]
    },
    {
      "cell_type": "code",
      "source": [
        "t = tf.constant([[[1, 1, 1, 1], [2, 2, 2, 2]], [[3, 3, 3, 3], [4, 4, 4, 4]]])\n",
        "tf.size(t)"
      ],
      "metadata": {
        "colab": {
          "base_uri": "https://localhost:8080/"
        },
        "id": "-bbaOdzGT4yr",
        "outputId": "785fce11-53e2-43c3-8ca1-b60173c614a6"
      },
      "execution_count": 42,
      "outputs": [
        {
          "output_type": "execute_result",
          "data": {
            "text/plain": [
              "<tf.Tensor: shape=(), dtype=int32, numpy=16>"
            ]
          },
          "metadata": {},
          "execution_count": 42
        }
      ]
    },
    {
      "cell_type": "code",
      "source": [
        "random_tensor = tf.random.normal(\n",
        "    [3, 2],\n",
        "    mean=0.0,\n",
        "    stddev=100.0,\n",
        "    dtype=tf.dtypes.float32,\n",
        "    seed=None,\n",
        "    name=None\n",
        ")\n",
        "print(random_tensor)"
      ],
      "metadata": {
        "colab": {
          "base_uri": "https://localhost:8080/"
        },
        "id": "fsreRZOKX62j",
        "outputId": "dd405890-d965-4ec9-fcf6-fa42797e9d05"
      },
      "execution_count": 43,
      "outputs": [
        {
          "output_type": "stream",
          "name": "stdout",
          "text": [
            "tf.Tensor(\n",
            "[[  -4.242675  -14.04282 ]\n",
            " [-153.28612   -38.495495]\n",
            " [ -96.81511   108.05882 ]], shape=(3, 2), dtype=float32)\n"
          ]
        }
      ]
    },
    {
      "cell_type": "code",
      "source": [
        "random_tensor = tf.random.uniform(\n",
        "    [3, 2],\n",
        "    minval=0,\n",
        "    maxval=100,\n",
        "    dtype=tf.dtypes.float32,\n",
        "    seed=None,\n",
        "    name=None\n",
        ")\n",
        "print(random_tensor)"
      ],
      "metadata": {
        "colab": {
          "base_uri": "https://localhost:8080/"
        },
        "id": "lUvU96IwbQMe",
        "outputId": "6a0916fa-4ef2-4b9e-faec-6faeedc5ed11"
      },
      "execution_count": 44,
      "outputs": [
        {
          "output_type": "stream",
          "name": "stdout",
          "text": [
            "tf.Tensor(\n",
            "[[70.96098  40.506744]\n",
            " [91.09771  60.2131  ]\n",
            " [23.237288 70.90092 ]], shape=(3, 2), dtype=float32)\n"
          ]
        }
      ]
    },
    {
      "cell_type": "code",
      "source": [
        "t = tf.constant([[[1, 1, 1, 1], [2, 2, 2, 2]], [[3, 3, 3, 3], [4, 4, 4, 4]]])\n",
        "tf.size(t)\n"
      ],
      "metadata": {
        "id": "vMRFMg0jhmej",
        "colab": {
          "base_uri": "https://localhost:8080/"
        },
        "outputId": "2b841ba0-bb9a-4c40-9467-04a970b112b3"
      },
      "execution_count": 45,
      "outputs": [
        {
          "output_type": "execute_result",
          "data": {
            "text/plain": [
              "<tf.Tensor: shape=(), dtype=int32, numpy=16>"
            ]
          },
          "metadata": {},
          "execution_count": 45
        }
      ]
    },
    {
      "cell_type": "code",
      "source": [
        "t = tf.constant([[1, 1, 1], [2, 2, 2]])\n",
        "tf.rank(t)"
      ],
      "metadata": {
        "colab": {
          "base_uri": "https://localhost:8080/"
        },
        "id": "wxEjNBjyQzGR",
        "outputId": "430840e9-06ff-4263-df8d-14fda3d77244"
      },
      "execution_count": 46,
      "outputs": [
        {
          "output_type": "execute_result",
          "data": {
            "text/plain": [
              "<tf.Tensor: shape=(), dtype=int32, numpy=2>"
            ]
          },
          "metadata": {},
          "execution_count": 46
        }
      ]
    },
    {
      "cell_type": "markdown",
      "source": [
        "# **INDEXING**"
      ],
      "metadata": {
        "id": "eVw7cfiFax6f"
      }
    },
    {
      "cell_type": "code",
      "source": [
        "tensor_index = tf.constant([2, 3, 4, 5, 5])\n",
        "print(tensor_index[3])"
      ],
      "metadata": {
        "colab": {
          "base_uri": "https://localhost:8080/"
        },
        "id": "btJ8f0CvQ809",
        "outputId": "84acfd44-e22b-4bb9-aa16-90760aa453f8"
      },
      "execution_count": 47,
      "outputs": [
        {
          "output_type": "stream",
          "name": "stdout",
          "text": [
            "tf.Tensor(5, shape=(), dtype=int32)\n"
          ]
        }
      ]
    },
    {
      "cell_type": "code",
      "source": [
        "tensor_index[1]"
      ],
      "metadata": {
        "colab": {
          "base_uri": "https://localhost:8080/"
        },
        "id": "NIEo8nKObATV",
        "outputId": "869a24e9-23ee-410d-f1f9-7d923362c468"
      },
      "execution_count": 48,
      "outputs": [
        {
          "output_type": "execute_result",
          "data": {
            "text/plain": [
              "<tf.Tensor: shape=(), dtype=int32, numpy=3>"
            ]
          },
          "metadata": {},
          "execution_count": 48
        }
      ]
    },
    {
      "cell_type": "code",
      "source": [
        "tensor_index[1:3]"
      ],
      "metadata": {
        "colab": {
          "base_uri": "https://localhost:8080/"
        },
        "id": "UWP8nu54bY1n",
        "outputId": "f33625f3-12f1-4f25-a28a-571160befa5f"
      },
      "execution_count": 49,
      "outputs": [
        {
          "output_type": "execute_result",
          "data": {
            "text/plain": [
              "<tf.Tensor: shape=(2,), dtype=int32, numpy=array([3, 4], dtype=int32)>"
            ]
          },
          "metadata": {},
          "execution_count": 49
        }
      ]
    },
    {
      "cell_type": "code",
      "source": [
        "tensor_indexed = tf.constant([2, 4, 9, 0, 4, 5, 6, 7])"
      ],
      "metadata": {
        "id": "_wE0wGc5br_8"
      },
      "execution_count": 50,
      "outputs": []
    },
    {
      "cell_type": "code",
      "source": [
        "tensor_indexed[3:7]"
      ],
      "metadata": {
        "colab": {
          "base_uri": "https://localhost:8080/"
        },
        "id": "07XZrfjSJnaV",
        "outputId": "0e576bc9-2a05-4449-ec0a-1ccdd4671cba"
      },
      "execution_count": 51,
      "outputs": [
        {
          "output_type": "execute_result",
          "data": {
            "text/plain": [
              "<tf.Tensor: shape=(4,), dtype=int32, numpy=array([0, 4, 5, 6], dtype=int32)>"
            ]
          },
          "metadata": {},
          "execution_count": 51
        }
      ]
    },
    {
      "cell_type": "code",
      "source": [
        "a = tf.constant([\n",
        "    [1, 5, 1],\n",
        "    [7, 3, 0],\n",
        "])\n",
        "\n",
        "print(tf.transpose(a))"
      ],
      "metadata": {
        "colab": {
          "base_uri": "https://localhost:8080/"
        },
        "id": "tDPHmkPWJ01H",
        "outputId": "efff65ae-8d3a-4559-e5af-dc28b1c9d308"
      },
      "execution_count": 52,
      "outputs": [
        {
          "output_type": "stream",
          "name": "stdout",
          "text": [
            "tf.Tensor(\n",
            "[[1 7]\n",
            " [5 3]\n",
            " [1 0]], shape=(3, 2), dtype=int32)\n"
          ]
        }
      ]
    },
    {
      "cell_type": "code",
      "source": [
        "a.shape"
      ],
      "metadata": {
        "colab": {
          "base_uri": "https://localhost:8080/"
        },
        "id": "uPgZV7focg-D",
        "outputId": "afb9cd50-b1bb-4774-9e3f-5b7ed990674a"
      },
      "execution_count": 53,
      "outputs": [
        {
          "output_type": "execute_result",
          "data": {
            "text/plain": [
              "TensorShape([2, 3])"
            ]
          },
          "metadata": {},
          "execution_count": 53
        }
      ]
    },
    {
      "cell_type": "code",
      "source": [
        "tf.rank(a)"
      ],
      "metadata": {
        "colab": {
          "base_uri": "https://localhost:8080/"
        },
        "id": "EG86HYE2crjK",
        "outputId": "d8fed7e5-3455-4e40-9f91-538d68cfae3a"
      },
      "execution_count": 54,
      "outputs": [
        {
          "output_type": "execute_result",
          "data": {
            "text/plain": [
              "<tf.Tensor: shape=(), dtype=int32, numpy=2>"
            ]
          },
          "metadata": {},
          "execution_count": 54
        }
      ]
    },
    {
      "cell_type": "code",
      "source": [
        "b = tf.constant([\n",
        "    [3, 1, 9],\n",
        "    [0, 1, 7],\n",
        "    [1, 5, 1]\n",
        "])\n",
        "\n",
        "print(tf.linalg.matmul(a, b))"
      ],
      "metadata": {
        "colab": {
          "base_uri": "https://localhost:8080/"
        },
        "id": "76YlBrCicwI1",
        "outputId": "ce20cde0-a389-4114-bd0b-bcfb53ffd8dc"
      },
      "execution_count": 55,
      "outputs": [
        {
          "output_type": "stream",
          "name": "stdout",
          "text": [
            "tf.Tensor(\n",
            "[[ 4 11 45]\n",
            " [21 10 84]], shape=(2, 3), dtype=int32)\n"
          ]
        }
      ]
    },
    {
      "cell_type": "code",
      "source": [
        "a@tf.transpose(b)"
      ],
      "metadata": {
        "colab": {
          "base_uri": "https://localhost:8080/"
        },
        "id": "s7fX8xNcdQGa",
        "outputId": "464f5c0a-9d96-4689-d29e-a8bd0f62f1f5"
      },
      "execution_count": 56,
      "outputs": [
        {
          "output_type": "execute_result",
          "data": {
            "text/plain": [
              "<tf.Tensor: shape=(2, 3), dtype=int32, numpy=\n",
              "array([[17, 12, 27],\n",
              "       [24,  3, 22]], dtype=int32)>"
            ]
          },
          "metadata": {},
          "execution_count": 56
        }
      ]
    },
    {
      "cell_type": "code",
      "source": [
        "a@b"
      ],
      "metadata": {
        "id": "yUl1udlVdUx4",
        "colab": {
          "base_uri": "https://localhost:8080/"
        },
        "outputId": "f20e507f-7d48-4c2c-a6c4-d87ef5d1a8c3"
      },
      "execution_count": 57,
      "outputs": [
        {
          "output_type": "execute_result",
          "data": {
            "text/plain": [
              "<tf.Tensor: shape=(2, 3), dtype=int32, numpy=\n",
              "array([[ 4, 11, 45],\n",
              "       [21, 10, 84]], dtype=int32)>"
            ]
          },
          "metadata": {},
          "execution_count": 57
        }
      ]
    },
    {
      "cell_type": "code",
      "source": [
        "tf.linalg.matmul(a, b, transpose_b=True)"
      ],
      "metadata": {
        "colab": {
          "base_uri": "https://localhost:8080/"
        },
        "id": "DsI9h2SxzDTD",
        "outputId": "859b607a-e61d-4ed8-dac7-abb623f2042c"
      },
      "execution_count": 58,
      "outputs": [
        {
          "output_type": "execute_result",
          "data": {
            "text/plain": [
              "<tf.Tensor: shape=(2, 3), dtype=int32, numpy=\n",
              "array([[17, 12, 27],\n",
              "       [24,  3, 22]], dtype=int32)>"
            ]
          },
          "metadata": {},
          "execution_count": 58
        }
      ]
    },
    {
      "cell_type": "code",
      "source": [
        "a = tf.constant(\n",
        "    [[[1, 0],\n",
        "      [2, 1],\n",
        "      [3, -1]],\n",
        "     [[0, 2],\n",
        "      [1, -1],\n",
        "      [2, 3]],\n",
        "     [[1, 2],\n",
        "      [0, 1],\n",
        "      [1, 1]],\n",
        "     [[2, 0],\n",
        "      [1, 1],\n",
        "      [0, -1]]]\n",
        ")\n",
        "\n",
        "b = tf.constant(\n",
        "    [[[1, 2, 0],\n",
        "      [3, 5, -1]],\n",
        "     [[10, 2, 0],\n",
        "      [1, 0, 2]],\n",
        "     [[5, 8, 0],\n",
        "      [2, 7, 0]],\n",
        "     [[2, 1, 9],\n",
        "      [4, -3, 32]]]\n",
        ")\n"
      ],
      "metadata": {
        "id": "bswLjj7KzMP7"
      },
      "execution_count": 59,
      "outputs": []
    },
    {
      "cell_type": "code",
      "source": [
        "print(a.shape)"
      ],
      "metadata": {
        "colab": {
          "base_uri": "https://localhost:8080/"
        },
        "id": "ezp2or5W3Anx",
        "outputId": "f4cd21f7-b73c-4d97-cd5c-472aa6798f58"
      },
      "execution_count": 60,
      "outputs": [
        {
          "output_type": "stream",
          "name": "stdout",
          "text": [
            "(4, 3, 2)\n"
          ]
        }
      ]
    },
    {
      "cell_type": "code",
      "source": [
        "print(b.shape)"
      ],
      "metadata": {
        "colab": {
          "base_uri": "https://localhost:8080/"
        },
        "id": "6VfafKV43NXH",
        "outputId": "d53b5af3-e01b-43e2-92fb-ce63af5d8fd1"
      },
      "execution_count": 61,
      "outputs": [
        {
          "output_type": "stream",
          "name": "stdout",
          "text": [
            "(4, 2, 3)\n"
          ]
        }
      ]
    },
    {
      "cell_type": "code",
      "source": [
        "print(tf.linalg.matmul(a, b))"
      ],
      "metadata": {
        "colab": {
          "base_uri": "https://localhost:8080/"
        },
        "id": "w7t15EkG3hwl",
        "outputId": "0b82c40c-b7ab-470b-99df-378ec50cbd2e"
      },
      "execution_count": 62,
      "outputs": [
        {
          "output_type": "stream",
          "name": "stdout",
          "text": [
            "tf.Tensor(\n",
            "[[[  1   2   0]\n",
            "  [  5   9  -1]\n",
            "  [  0   1   1]]\n",
            "\n",
            " [[  2   0   4]\n",
            "  [  9   2  -2]\n",
            "  [ 23   4   6]]\n",
            "\n",
            " [[  9  22   0]\n",
            "  [  2   7   0]\n",
            "  [  7  15   0]]\n",
            "\n",
            " [[  4   2  18]\n",
            "  [  6  -2  41]\n",
            "  [ -4   3 -32]]], shape=(4, 3, 3), dtype=int32)\n"
          ]
        }
      ]
    },
    {
      "cell_type": "code",
      "source": [
        "print(a[0], b[0])"
      ],
      "metadata": {
        "colab": {
          "base_uri": "https://localhost:8080/"
        },
        "id": "Rg94vAGl4K5G",
        "outputId": "d084d864-838f-4c7e-bbde-19e7697710c3"
      },
      "execution_count": 63,
      "outputs": [
        {
          "output_type": "stream",
          "name": "stdout",
          "text": [
            "tf.Tensor(\n",
            "[[ 1  0]\n",
            " [ 2  1]\n",
            " [ 3 -1]], shape=(3, 2), dtype=int32) tf.Tensor(\n",
            "[[ 1  2  0]\n",
            " [ 3  5 -1]], shape=(2, 3), dtype=int32)\n"
          ]
        }
      ]
    },
    {
      "cell_type": "code",
      "source": [
        "tf.linalg.band_part(a, 0, 0)"
      ],
      "metadata": {
        "colab": {
          "base_uri": "https://localhost:8080/"
        },
        "id": "QfNbnAeN4O5I",
        "outputId": "bfd1a91c-e0c3-4301-ab1d-156906854f19"
      },
      "execution_count": 64,
      "outputs": [
        {
          "output_type": "execute_result",
          "data": {
            "text/plain": [
              "<tf.Tensor: shape=(4, 3, 2), dtype=int32, numpy=\n",
              "array([[[ 1,  0],\n",
              "        [ 0,  1],\n",
              "        [ 0,  0]],\n",
              "\n",
              "       [[ 0,  0],\n",
              "        [ 0, -1],\n",
              "        [ 0,  0]],\n",
              "\n",
              "       [[ 1,  0],\n",
              "        [ 0,  1],\n",
              "        [ 0,  0]],\n",
              "\n",
              "       [[ 2,  0],\n",
              "        [ 0,  1],\n",
              "        [ 0,  0]]], dtype=int32)>"
            ]
          },
          "metadata": {},
          "execution_count": 64
        }
      ]
    },
    {
      "cell_type": "code",
      "source": [
        "a = tf.constant ([\n",
        "     [2, 6, 5, 2],\n",
        "     [2, -2, 2, 3],\n",
        "     [1, 5, 4, 0]\n",
        "])\n",
        "\n",
        "b = tf.constant ([\n",
        "     [2, 9, 0, 3, 0],\n",
        "     [3, 6, 8, -2, 2],\n",
        "     [1, 3, 5, 0, 1],\n",
        "     [3, 0, 2, 0, 5]\n",
        "])\n",
        "\n",
        "c = tf.linalg.matmul(a, b)\n",
        "print(a.shape, b.shape)\n",
        "print(c.shape)\n",
        "print(c)"
      ],
      "metadata": {
        "id": "ercRg1e85Q9t",
        "colab": {
          "base_uri": "https://localhost:8080/"
        },
        "outputId": "e9b2e749-7f95-403e-8036-c26deaf7f1e3"
      },
      "execution_count": 65,
      "outputs": [
        {
          "output_type": "stream",
          "name": "stdout",
          "text": [
            "(3, 4) (4, 5)\n",
            "(3, 5)\n",
            "tf.Tensor(\n",
            "[[33 69 77 -6 27]\n",
            " [ 9 12  0 10 13]\n",
            " [21 51 60 -7 14]], shape=(3, 5), dtype=int32)\n"
          ]
        }
      ]
    },
    {
      "cell_type": "code",
      "source": [
        "tf.einsum(\"ij, jk->ik\", a, b)"
      ],
      "metadata": {
        "colab": {
          "base_uri": "https://localhost:8080/"
        },
        "id": "LW0Xs-wnq0Rq",
        "outputId": "961038e7-2993-4042-f679-add28e5ace8d"
      },
      "execution_count": 66,
      "outputs": [
        {
          "output_type": "execute_result",
          "data": {
            "text/plain": [
              "<tf.Tensor: shape=(3, 5), dtype=int32, numpy=\n",
              "array([[33, 69, 77, -6, 27],\n",
              "       [ 9, 12,  0, 10, 13],\n",
              "       [21, 51, 60, -7, 14]], dtype=int32)>"
            ]
          },
          "metadata": {},
          "execution_count": 66
        }
      ]
    },
    {
      "cell_type": "code",
      "source": [
        "a = tf.constant ([2, 6, 5, 2])\n",
        "b = tf.constant ([0, 1, 3, 2])\n",
        "tf.einsum(\"i,j->ij\", a, b)\n"
      ],
      "metadata": {
        "colab": {
          "base_uri": "https://localhost:8080/"
        },
        "id": "YHwSqjZ2rb7r",
        "outputId": "818712ab-9cf3-4d58-be75-43c8a0e1d8e4"
      },
      "execution_count": 67,
      "outputs": [
        {
          "output_type": "execute_result",
          "data": {
            "text/plain": [
              "<tf.Tensor: shape=(4, 4), dtype=int32, numpy=\n",
              "array([[ 0,  2,  6,  4],\n",
              "       [ 0,  6, 18, 12],\n",
              "       [ 0,  5, 15, 10],\n",
              "       [ 0,  2,  6,  4]], dtype=int32)>"
            ]
          },
          "metadata": {},
          "execution_count": 67
        }
      ]
    },
    {
      "cell_type": "code",
      "source": [
        "a = tf.constant ([2, 6, 5, 2])\n",
        "b = tf.constant ([0, 1, 3, 2])\n",
        "print(tf.reduce_sum(c))\n",
        "print(c)\n",
        "\n",
        "print(tf.einsum(\"i,j->ij\", a, b))"
      ],
      "metadata": {
        "colab": {
          "base_uri": "https://localhost:8080/"
        },
        "id": "MOGspswZrfwg",
        "outputId": "cecb760a-1689-4d6b-fa91-bf19f9170015"
      },
      "execution_count": 68,
      "outputs": [
        {
          "output_type": "stream",
          "name": "stdout",
          "text": [
            "tf.Tensor(383, shape=(), dtype=int32)\n",
            "tf.Tensor(\n",
            "[[33 69 77 -6 27]\n",
            " [ 9 12  0 10 13]\n",
            " [21 51 60 -7 14]], shape=(3, 5), dtype=int32)\n",
            "tf.Tensor(\n",
            "[[ 0  2  6  4]\n",
            " [ 0  6 18 12]\n",
            " [ 0  5 15 10]\n",
            " [ 0  2  6  4]], shape=(4, 4), dtype=int32)\n"
          ]
        }
      ]
    },
    {
      "cell_type": "code",
      "source": [
        "b = tf.constant([\n",
        "    [2, 9, 0, 3, 0],\n",
        "    [3, 6, 8, -2, 2],\n",
        "    [1, 3, 5, 0, 1],\n",
        "    [3, 0, 2, 0, 5]\n",
        "])\n",
        "tf.einsum(\"ij->ji\", b)"
      ],
      "metadata": {
        "colab": {
          "base_uri": "https://localhost:8080/"
        },
        "id": "nBRFB7iQugdD",
        "outputId": "ba5b6a52-3508-4c33-ae40-140c1a792e12"
      },
      "execution_count": 69,
      "outputs": [
        {
          "output_type": "execute_result",
          "data": {
            "text/plain": [
              "<tf.Tensor: shape=(5, 4), dtype=int32, numpy=\n",
              "array([[ 2,  3,  1,  3],\n",
              "       [ 9,  6,  3,  0],\n",
              "       [ 0,  8,  5,  2],\n",
              "       [ 3, -2,  0,  0],\n",
              "       [ 0,  2,  1,  5]], dtype=int32)>"
            ]
          },
          "metadata": {},
          "execution_count": 69
        }
      ]
    },
    {
      "cell_type": "code",
      "source": [
        "import tensorflow as tf\n",
        "\n",
        "a = tf.constant([\n",
        "     [2, 6, 5, 2],\n",
        "     [2, -2, 2, 3],\n",
        "     [1, 5, 4, 0]\n",
        "])\n",
        "\n",
        "b = tf.constant([\n",
        "     [2, 9, 0, 3, 0],\n",
        "     [3, 6, 8, -2, 2],\n",
        "     [1, 3, 5, 0, 1],\n",
        "     [3, 0, 2, 0, 5]\n",
        "])\n",
        "\n",
        "result = tf.matmul(a, b)\n",
        "print(result)\n"
      ],
      "metadata": {
        "colab": {
          "base_uri": "https://localhost:8080/"
        },
        "id": "zvkgesZZ0Q2H",
        "outputId": "beddf7eb-f598-4b58-d074-1e86058f8cf9"
      },
      "execution_count": 70,
      "outputs": [
        {
          "output_type": "stream",
          "name": "stdout",
          "text": [
            "tf.Tensor(\n",
            "[[33 69 77 -6 27]\n",
            " [ 9 12  0 10 13]\n",
            " [21 51 60 -7 14]], shape=(3, 5), dtype=int32)\n"
          ]
        }
      ]
    },
    {
      "cell_type": "code",
      "source": [
        "print(tf.linalg.matmul(a, a, transpose_b=True))\n",
        "print(a.shape)"
      ],
      "metadata": {
        "colab": {
          "base_uri": "https://localhost:8080/"
        },
        "id": "lCntMVUy3Dli",
        "outputId": "c2e0c37e-ca9c-4ea5-9331-3a72415ea5a6"
      },
      "execution_count": 71,
      "outputs": [
        {
          "output_type": "stream",
          "name": "stdout",
          "text": [
            "tf.Tensor(\n",
            "[[69  8 52]\n",
            " [ 8 21  0]\n",
            " [52  0 42]], shape=(3, 3), dtype=int32)\n",
            "(3, 4)\n"
          ]
        }
      ]
    },
    {
      "cell_type": "code",
      "source": [
        "a = tf.constant([1, 3, 4, 5, 6, 7])"
      ],
      "metadata": {
        "id": "u9rxj5vh4aPz"
      },
      "execution_count": 72,
      "outputs": []
    },
    {
      "cell_type": "code",
      "source": [
        "a = tf.constant([\n",
        "\n",
        "     [[2, 6, 5, 2],\n",
        "     [2, -2, 2, 3],\n",
        "     [1, 5, 4, 0]],\n",
        "\n",
        "     [[2, 6, 5, 2],\n",
        "      [2, -2, 2, 3],\n",
        "      [1, 5, 4, 0]]\n",
        "])\n",
        "print(a.shape)"
      ],
      "metadata": {
        "colab": {
          "base_uri": "https://localhost:8080/"
        },
        "id": "R3tmZAVr7Blw",
        "outputId": "e74f6ec5-51e4-4b4c-d1c3-1370222bf33d"
      },
      "execution_count": 73,
      "outputs": [
        {
          "output_type": "stream",
          "name": "stdout",
          "text": [
            "(2, 3, 4)\n"
          ]
        }
      ]
    },
    {
      "cell_type": "code",
      "source": [
        "tf.expand_dims(a, axis=0)"
      ],
      "metadata": {
        "colab": {
          "base_uri": "https://localhost:8080/"
        },
        "id": "bL1F89DF5B2P",
        "outputId": "750632ac-8c0a-4abe-8bd6-1bcc5cdf7cd6"
      },
      "execution_count": 74,
      "outputs": [
        {
          "output_type": "execute_result",
          "data": {
            "text/plain": [
              "<tf.Tensor: shape=(1, 2, 3, 4), dtype=int32, numpy=\n",
              "array([[[[ 2,  6,  5,  2],\n",
              "         [ 2, -2,  2,  3],\n",
              "         [ 1,  5,  4,  0]],\n",
              "\n",
              "        [[ 2,  6,  5,  2],\n",
              "         [ 2, -2,  2,  3],\n",
              "         [ 1,  5,  4,  0]]]], dtype=int32)>"
            ]
          },
          "metadata": {},
          "execution_count": 74
        }
      ]
    },
    {
      "cell_type": "code",
      "source": [
        "tf.expand_dims(a, axis=1)"
      ],
      "metadata": {
        "colab": {
          "base_uri": "https://localhost:8080/"
        },
        "id": "BY0x0PYc5M9b",
        "outputId": "b2a03672-fbd2-43dd-9f4f-fac9218bc588"
      },
      "execution_count": 75,
      "outputs": [
        {
          "output_type": "execute_result",
          "data": {
            "text/plain": [
              "<tf.Tensor: shape=(2, 1, 3, 4), dtype=int32, numpy=\n",
              "array([[[[ 2,  6,  5,  2],\n",
              "         [ 2, -2,  2,  3],\n",
              "         [ 1,  5,  4,  0]]],\n",
              "\n",
              "\n",
              "       [[[ 2,  6,  5,  2],\n",
              "         [ 2, -2,  2,  3],\n",
              "         [ 1,  5,  4,  0]]]], dtype=int32)>"
            ]
          },
          "metadata": {},
          "execution_count": 75
        }
      ]
    },
    {
      "cell_type": "code",
      "source": [
        "tf.expand_dims(a, axis=0)"
      ],
      "metadata": {
        "colab": {
          "base_uri": "https://localhost:8080/"
        },
        "id": "eft8Lm9B6DIH",
        "outputId": "b2daa1f1-0a34-4451-946d-fd8ff9b0a59e"
      },
      "execution_count": 76,
      "outputs": [
        {
          "output_type": "execute_result",
          "data": {
            "text/plain": [
              "<tf.Tensor: shape=(1, 2, 3, 4), dtype=int32, numpy=\n",
              "array([[[[ 2,  6,  5,  2],\n",
              "         [ 2, -2,  2,  3],\n",
              "         [ 1,  5,  4,  0]],\n",
              "\n",
              "        [[ 2,  6,  5,  2],\n",
              "         [ 2, -2,  2,  3],\n",
              "         [ 1,  5,  4,  0]]]], dtype=int32)>"
            ]
          },
          "metadata": {},
          "execution_count": 76
        }
      ]
    },
    {
      "cell_type": "code",
      "source": [
        "tf.expand_dims(a, axis=2)"
      ],
      "metadata": {
        "colab": {
          "base_uri": "https://localhost:8080/"
        },
        "id": "yCPFKddo7V9K",
        "outputId": "bb149fd6-f082-4602-e11b-8240a6080207"
      },
      "execution_count": 77,
      "outputs": [
        {
          "output_type": "execute_result",
          "data": {
            "text/plain": [
              "<tf.Tensor: shape=(2, 3, 1, 4), dtype=int32, numpy=\n",
              "array([[[[ 2,  6,  5,  2]],\n",
              "\n",
              "        [[ 2, -2,  2,  3]],\n",
              "\n",
              "        [[ 1,  5,  4,  0]]],\n",
              "\n",
              "\n",
              "       [[[ 2,  6,  5,  2]],\n",
              "\n",
              "        [[ 2, -2,  2,  3]],\n",
              "\n",
              "        [[ 1,  5,  4,  0]]]], dtype=int32)>"
            ]
          },
          "metadata": {},
          "execution_count": 77
        }
      ]
    },
    {
      "cell_type": "code",
      "source": [
        "c = tf.expand_dims(a, axis=-1)\n",
        "print(c.shape)\n",
        "print(tf.squeeze(c, axis=-1))"
      ],
      "metadata": {
        "colab": {
          "base_uri": "https://localhost:8080/"
        },
        "id": "kXxxoezM7unx",
        "outputId": "d7a46782-b745-40b5-892d-5b71b14ba256"
      },
      "execution_count": 78,
      "outputs": [
        {
          "output_type": "stream",
          "name": "stdout",
          "text": [
            "(2, 3, 4, 1)\n",
            "tf.Tensor(\n",
            "[[[ 2  6  5  2]\n",
            "  [ 2 -2  2  3]\n",
            "  [ 1  5  4  0]]\n",
            "\n",
            " [[ 2  6  5  2]\n",
            "  [ 2 -2  2  3]\n",
            "  [ 1  5  4  0]]], shape=(2, 3, 4), dtype=int32)\n"
          ]
        }
      ]
    },
    {
      "cell_type": "code",
      "source": [
        "t1 = tf.constant (\n",
        "    [[1, 2, 3],\n",
        "     [2, 5, 6]]\n",
        ")\n",
        "t2= tf.constant (\n",
        "    [[7, 8, 9],\n",
        "     [10, 11, 12]]\n",
        ")\n",
        "\n",
        "print(t1.shape, t2.shape)"
      ],
      "metadata": {
        "colab": {
          "base_uri": "https://localhost:8080/"
        },
        "id": "NQm_ASO_8uEd",
        "outputId": "c7833306-06c1-4083-c474-42f633c4de0a"
      },
      "execution_count": 79,
      "outputs": [
        {
          "output_type": "stream",
          "name": "stdout",
          "text": [
            "(2, 3) (2, 3)\n"
          ]
        }
      ]
    },
    {
      "cell_type": "code",
      "source": [
        "tf.reshape(t1, [6])"
      ],
      "metadata": {
        "colab": {
          "base_uri": "https://localhost:8080/"
        },
        "id": "E8TXM6PW9yV-",
        "outputId": "ed637ed1-0c63-4195-ded4-e968c071c608"
      },
      "execution_count": 80,
      "outputs": [
        {
          "output_type": "execute_result",
          "data": {
            "text/plain": [
              "<tf.Tensor: shape=(6,), dtype=int32, numpy=array([1, 2, 3, 2, 5, 6], dtype=int32)>"
            ]
          },
          "metadata": {},
          "execution_count": 80
        }
      ]
    },
    {
      "cell_type": "code",
      "source": [
        "tf.concat([t1, t2], axis=1)"
      ],
      "metadata": {
        "colab": {
          "base_uri": "https://localhost:8080/"
        },
        "id": "r5D_Be7J-MoA",
        "outputId": "1243ddf8-dc65-4e50-fd1d-73dc6c83a39e"
      },
      "execution_count": 81,
      "outputs": [
        {
          "output_type": "execute_result",
          "data": {
            "text/plain": [
              "<tf.Tensor: shape=(2, 6), dtype=int32, numpy=\n",
              "array([[ 1,  2,  3,  7,  8,  9],\n",
              "       [ 2,  5,  6, 10, 11, 12]], dtype=int32)>"
            ]
          },
          "metadata": {},
          "execution_count": 81
        }
      ]
    },
    {
      "cell_type": "code",
      "source": [
        "tf.concat([t1, t2], axis=0)"
      ],
      "metadata": {
        "colab": {
          "base_uri": "https://localhost:8080/"
        },
        "id": "BJ6L6CLW_K_-",
        "outputId": "7201cdf8-9d8b-45b6-80f9-c9b8b1df7976"
      },
      "execution_count": 82,
      "outputs": [
        {
          "output_type": "execute_result",
          "data": {
            "text/plain": [
              "<tf.Tensor: shape=(4, 3), dtype=int32, numpy=\n",
              "array([[ 1,  2,  3],\n",
              "       [ 2,  5,  6],\n",
              "       [ 7,  8,  9],\n",
              "       [10, 11, 12]], dtype=int32)>"
            ]
          },
          "metadata": {},
          "execution_count": 82
        }
      ]
    },
    {
      "cell_type": "code",
      "source": [
        "t1 = tf.constant([\n",
        "    [[1, 2],\n",
        "     [2, 3]],\n",
        "    [[4, 4],\n",
        "     [5, 3]]\n",
        "])\n",
        "\n",
        "t2 = tf.constant([\n",
        "    [[7, 8],\n",
        "     [8, 4]],\n",
        "    [[2, 10],\n",
        "     [15, 11]]\n",
        "])\n",
        "\n",
        "print(t1.shape, t2.shape)"
      ],
      "metadata": {
        "colab": {
          "base_uri": "https://localhost:8080/"
        },
        "id": "z1FYI7X1_Wpg",
        "outputId": "a5e91cc1-1c46-4b8a-e158-d9b7c1ec0203"
      },
      "execution_count": 83,
      "outputs": [
        {
          "output_type": "stream",
          "name": "stdout",
          "text": [
            "(2, 2, 2) (2, 2, 2)\n"
          ]
        }
      ]
    },
    {
      "cell_type": "code",
      "source": [
        "tf.stack([tf.expand_dims(t1, -1),\n",
        "          tf.expand_dims(t2, -1)], axis=0)"
      ],
      "metadata": {
        "colab": {
          "base_uri": "https://localhost:8080/"
        },
        "id": "kLIs9oaKAYXQ",
        "outputId": "f71339ff-b733-4ed1-bb95-99fd988ac212"
      },
      "execution_count": 84,
      "outputs": [
        {
          "output_type": "execute_result",
          "data": {
            "text/plain": [
              "<tf.Tensor: shape=(2, 2, 2, 2, 1), dtype=int32, numpy=\n",
              "array([[[[[ 1],\n",
              "          [ 2]],\n",
              "\n",
              "         [[ 2],\n",
              "          [ 3]]],\n",
              "\n",
              "\n",
              "        [[[ 4],\n",
              "          [ 4]],\n",
              "\n",
              "         [[ 5],\n",
              "          [ 3]]]],\n",
              "\n",
              "\n",
              "\n",
              "       [[[[ 7],\n",
              "          [ 8]],\n",
              "\n",
              "         [[ 8],\n",
              "          [ 4]]],\n",
              "\n",
              "\n",
              "        [[[ 2],\n",
              "          [10]],\n",
              "\n",
              "         [[15],\n",
              "          [11]]]]], dtype=int32)>"
            ]
          },
          "metadata": {},
          "execution_count": 84
        }
      ]
    },
    {
      "cell_type": "code",
      "source": [
        "print(tf.concat([t1, t2], -1))"
      ],
      "metadata": {
        "colab": {
          "base_uri": "https://localhost:8080/"
        },
        "id": "xUgHPTfiAMuO",
        "outputId": "f3b4d955-ccfb-4bd5-b86b-848281df8faa"
      },
      "execution_count": 85,
      "outputs": [
        {
          "output_type": "stream",
          "name": "stdout",
          "text": [
            "tf.Tensor(\n",
            "[[[ 1  2  7  8]\n",
            "  [ 2  3  8  4]]\n",
            "\n",
            " [[ 4  4  2 10]\n",
            "  [ 5  3 15 11]]], shape=(2, 2, 4), dtype=int32)\n"
          ]
        }
      ]
    },
    {
      "cell_type": "code",
      "source": [
        "t = tf.constant([[1, 2, 3], [4, 5, 6]])\n",
        "paddings = tf.constant([[1, 1,], [2, 2]])\n",
        "print(tf.pad(t, paddings, \"CONSTANT\"))"
      ],
      "metadata": {
        "colab": {
          "base_uri": "https://localhost:8080/"
        },
        "id": "nfsAzsOfBI7E",
        "outputId": "e36b3704-6974-49d7-f36b-b131ce00698f"
      },
      "execution_count": 86,
      "outputs": [
        {
          "output_type": "stream",
          "name": "stdout",
          "text": [
            "tf.Tensor(\n",
            "[[0 0 0 0 0 0 0]\n",
            " [0 0 1 2 3 0 0]\n",
            " [0 0 4 5 6 0 0]\n",
            " [0 0 0 0 0 0 0]], shape=(4, 7), dtype=int32)\n"
          ]
        }
      ]
    },
    {
      "cell_type": "code",
      "source": [
        "a = tf.constant([4, 5, 6, 7])\n",
        "print(a[1:3])"
      ],
      "metadata": {
        "colab": {
          "base_uri": "https://localhost:8080/"
        },
        "id": "mwOHyPGMDFUj",
        "outputId": "4001cc2f-fddf-40ce-801e-b1a5f1152533"
      },
      "execution_count": 87,
      "outputs": [
        {
          "output_type": "stream",
          "name": "stdout",
          "text": [
            "tf.Tensor([5 6], shape=(2,), dtype=int32)\n"
          ]
        }
      ]
    },
    {
      "cell_type": "code",
      "source": [
        "tf.gather(a, [0, 3, 1])"
      ],
      "metadata": {
        "colab": {
          "base_uri": "https://localhost:8080/"
        },
        "id": "4KvuhkuoHSeG",
        "outputId": "7cc84784-921c-4448-f627-12675fa32481"
      },
      "execution_count": 88,
      "outputs": [
        {
          "output_type": "execute_result",
          "data": {
            "text/plain": [
              "<tf.Tensor: shape=(3,), dtype=int32, numpy=array([4, 7, 5], dtype=int32)>"
            ]
          },
          "metadata": {},
          "execution_count": 88
        }
      ]
    },
    {
      "cell_type": "code",
      "source": [
        "b = tf.constant([\n",
        "    [2, 9, 0, 3, 0],\n",
        "    [3, 6, 8, -2, 2],\n",
        "    [1, 3, 5, 0, 1],\n",
        "    [3, 0, 2, 0, 5]\n",
        "])"
      ],
      "metadata": {
        "id": "ipIv2UT-Hv2_"
      },
      "execution_count": 89,
      "outputs": []
    },
    {
      "cell_type": "code",
      "source": [
        "tf.gather(b,[3,1],axis=1)"
      ],
      "metadata": {
        "colab": {
          "base_uri": "https://localhost:8080/"
        },
        "id": "kOeEyDS9LNHA",
        "outputId": "de98c4b2-db71-48b4-dd8c-0a2d3fd46923"
      },
      "execution_count": 90,
      "outputs": [
        {
          "output_type": "execute_result",
          "data": {
            "text/plain": [
              "<tf.Tensor: shape=(4, 2), dtype=int32, numpy=\n",
              "array([[ 3,  9],\n",
              "       [-2,  6],\n",
              "       [ 0,  3],\n",
              "       [ 0,  0]], dtype=int32)>"
            ]
          },
          "metadata": {},
          "execution_count": 90
        }
      ]
    },
    {
      "cell_type": "code",
      "source": [
        "tf.gather_nd(b, [[1, 3], [2, 0]])"
      ],
      "metadata": {
        "colab": {
          "base_uri": "https://localhost:8080/"
        },
        "id": "iijW2oPTLgI-",
        "outputId": "6d6384ef-2ebc-4325-c1b9-9e8cae7ea72f"
      },
      "execution_count": 91,
      "outputs": [
        {
          "output_type": "execute_result",
          "data": {
            "text/plain": [
              "<tf.Tensor: shape=(2,), dtype=int32, numpy=array([-2,  1], dtype=int32)>"
            ]
          },
          "metadata": {},
          "execution_count": 91
        }
      ]
    },
    {
      "cell_type": "code",
      "source": [
        "tf.gather_nd(b,[[1],\n",
        "                [3]])"
      ],
      "metadata": {
        "colab": {
          "base_uri": "https://localhost:8080/"
        },
        "id": "lQ-dsZGeMtsA",
        "outputId": "2ae64f5a-16a8-4da0-9fd6-7b54169b28a3"
      },
      "execution_count": 92,
      "outputs": [
        {
          "output_type": "execute_result",
          "data": {
            "text/plain": [
              "<tf.Tensor: shape=(2, 5), dtype=int32, numpy=\n",
              "array([[ 3,  6,  8, -2,  2],\n",
              "       [ 3,  0,  2,  0,  5]], dtype=int32)>"
            ]
          },
          "metadata": {},
          "execution_count": 92
        }
      ]
    },
    {
      "cell_type": "code",
      "source": [
        "tf.gather(b,[[1,3]],axis=0)"
      ],
      "metadata": {
        "colab": {
          "base_uri": "https://localhost:8080/"
        },
        "id": "MUjygARENcDs",
        "outputId": "e6fc35bf-bd99-43f9-a2f6-b74602c2c4bc"
      },
      "execution_count": 93,
      "outputs": [
        {
          "output_type": "execute_result",
          "data": {
            "text/plain": [
              "<tf.Tensor: shape=(1, 2, 5), dtype=int32, numpy=\n",
              "array([[[ 3,  6,  8, -2,  2],\n",
              "        [ 3,  0,  2,  0,  5]]], dtype=int32)>"
            ]
          },
          "metadata": {},
          "execution_count": 93
        }
      ]
    },
    {
      "cell_type": "code",
      "source": [
        "a = tf.constant([\n",
        "    [1, 2, 3],\n",
        "    [4, 5, 6],\n",
        "    [7, 8, 9]\n",
        "])\n",
        "\n",
        "print(a)"
      ],
      "metadata": {
        "colab": {
          "base_uri": "https://localhost:8080/"
        },
        "id": "7g0yNJlXN8Th",
        "outputId": "1d88c259-989f-4456-bdea-76abdfacd3a0"
      },
      "execution_count": 94,
      "outputs": [
        {
          "output_type": "stream",
          "name": "stdout",
          "text": [
            "tf.Tensor(\n",
            "[[1 2 3]\n",
            " [4 5 6]\n",
            " [7 8 9]], shape=(3, 3), dtype=int32)\n"
          ]
        }
      ]
    },
    {
      "cell_type": "code",
      "source": [
        "ragged_tensor = tf.ragged.constant([[1, 2, 3], [4], [5, 6]])\n",
        "boolean_mask = tf.ragged.constant([[False, False, True], [False], [True, True]])\n",
        "\n",
        "# Apply the boolean mask\n",
        "masked_tensor = tf.ragged.boolean_mask(ragged_tensor, boolean_mask)\n",
        "\n",
        "# Print the result\n",
        "print(masked_tensor)"
      ],
      "metadata": {
        "colab": {
          "base_uri": "https://localhost:8080/"
        },
        "id": "R11T32DgO3yS",
        "outputId": "89e29f43-5d5c-4710-a383-b926a3b94266"
      },
      "execution_count": 95,
      "outputs": [
        {
          "output_type": "stream",
          "name": "stdout",
          "text": [
            "<tf.RaggedTensor [[3], [], [5, 6]]>\n"
          ]
        }
      ]
    },
    {
      "cell_type": "code",
      "source": [
        "import tensorflow as tf\n",
        "\n",
        "values = [3, 1, 4, 1, 5, 9, 2, 6]\n",
        "\n",
        "# Using from_row_splits\n",
        "print(tf.RaggedTensor.from_row_splits(values, row_splits=[0, 4, 4, 7, 8, 8]))\n",
        "\n",
        "# Using from_row_lengths\n",
        "print(tf.RaggedTensor.from_row_lengths(values, row_lengths=[4, 0, 3, 1, 0]))\n",
        "\n",
        "# Using from_value_rowids\n",
        "print(tf.RaggedTensor.from_value_rowids(values, value_rowids=[0, 0, 0, 0, 2, 2, 2, 3], nrows=5))\n",
        "\n",
        "# Using from_row_starts\n",
        "print(tf.RaggedTensor.from_row_starts(values, row_starts=[0, 4, 4, 7, 8]))\n",
        "\n",
        "# Using from_row_limits\n",
        "print(tf.RaggedTensor.from_row_limits(values, row_limits=[4, 4, 7, 8, 8]))\n",
        "\n",
        "# Using from_uniform_row_length\n",
        "print(tf.RaggedTensor.from_uniform_row_length(values, uniform_row_length=2))\n"
      ],
      "metadata": {
        "id": "kc8uqteBP8YK",
        "colab": {
          "base_uri": "https://localhost:8080/"
        },
        "outputId": "433a687d-cf77-4714-dd84-df4b758ec5c3"
      },
      "execution_count": 99,
      "outputs": [
        {
          "output_type": "stream",
          "name": "stdout",
          "text": [
            "<tf.RaggedTensor [[3, 1, 4, 1], [], [5, 9, 2], [6], []]>\n",
            "<tf.RaggedTensor [[3, 1, 4, 1], [], [5, 9, 2], [6], []]>\n",
            "<tf.RaggedTensor [[3, 1, 4, 1], [], [5, 9, 2], [6], []]>\n",
            "<tf.RaggedTensor [[3, 1, 4, 1], [], [5, 9, 2], [6], []]>\n",
            "<tf.RaggedTensor [[3, 1, 4, 1], [], [5, 9, 2], [6], []]>\n",
            "<tf.RaggedTensor [[3, 1],\n",
            " [4, 1],\n",
            " [5, 9],\n",
            " [2, 6]]>\n"
          ]
        }
      ]
    },
    {
      "cell_type": "code",
      "source": [
        "values = [3, 1, 4, 1, 5, 9, 2, 6, 7]\n",
        "\n",
        "print(tf.RaggedTensor.from_uniform_row_length(values, uniform_row_length=3))"
      ],
      "metadata": {
        "id": "iQ-jjd_YTTjc",
        "colab": {
          "base_uri": "https://localhost:8080/"
        },
        "outputId": "6f76f18d-d417-477e-d3a7-77c741ef4ae2"
      },
      "execution_count": 101,
      "outputs": [
        {
          "output_type": "stream",
          "name": "stdout",
          "text": [
            "<tf.RaggedTensor [[3, 1, 4],\n",
            " [1, 5, 9],\n",
            " [2, 6, 7]]>\n"
          ]
        }
      ]
    },
    {
      "cell_type": "code",
      "source": [
        "sparse_tensor = tf.sparse.SparseTensor(\n",
        "    indices=[[0, 0], [1, 2]],\n",
        "    values=[1, 9],\n",
        "    dense_shape=[5, 6]\n",
        ")\n",
        "\n",
        "print(sparse_tensor)"
      ],
      "metadata": {
        "colab": {
          "base_uri": "https://localhost:8080/"
        },
        "id": "BNbkgvWs9PDM",
        "outputId": "4b476919-ccec-4365-f893-3d8116070581"
      },
      "execution_count": 102,
      "outputs": [
        {
          "output_type": "stream",
          "name": "stdout",
          "text": [
            "SparseTensor(indices=tf.Tensor(\n",
            "[[0 0]\n",
            " [1 2]], shape=(2, 2), dtype=int64), values=tf.Tensor([1 9], shape=(2,), dtype=int32), dense_shape=tf.Tensor([5 6], shape=(2,), dtype=int64))\n"
          ]
        }
      ]
    },
    {
      "cell_type": "code",
      "source": [
        "sparse_tensor"
      ],
      "metadata": {
        "colab": {
          "base_uri": "https://localhost:8080/"
        },
        "id": "G6F2irDI-WZK",
        "outputId": "557ada37-fe91-40cf-e81a-81f1a8e1c9cc"
      },
      "execution_count": 104,
      "outputs": [
        {
          "output_type": "execute_result",
          "data": {
            "text/plain": [
              "SparseTensor(indices=tf.Tensor(\n",
              "[[0 0]\n",
              " [1 2]], shape=(2, 2), dtype=int64), values=tf.Tensor([1 9], shape=(2,), dtype=int32), dense_shape=tf.Tensor([5 6], shape=(2,), dtype=int64))"
            ]
          },
          "metadata": {},
          "execution_count": 104
        }
      ]
    },
    {
      "cell_type": "code",
      "source": [
        "tf.sparse.to_dense(sparse_tensor)"
      ],
      "metadata": {
        "colab": {
          "base_uri": "https://localhost:8080/"
        },
        "id": "dEa-mphT-ZoQ",
        "outputId": "47f1ecf6-4add-40d2-a52c-c0d2e689c4fa"
      },
      "execution_count": 105,
      "outputs": [
        {
          "output_type": "execute_result",
          "data": {
            "text/plain": [
              "<tf.Tensor: shape=(5, 6), dtype=int32, numpy=\n",
              "array([[1, 0, 0, 0, 0, 0],\n",
              "       [0, 0, 9, 0, 0, 0],\n",
              "       [0, 0, 0, 0, 0, 0],\n",
              "       [0, 0, 0, 0, 0, 0],\n",
              "       [0, 0, 0, 0, 0, 0]], dtype=int32)>"
            ]
          },
          "metadata": {},
          "execution_count": 105
        }
      ]
    },
    {
      "cell_type": "code",
      "source": [
        "tensor_string = tf.constant([\"i am\", \"a\", \"string\"])\n",
        "\n",
        "tensor_string"
      ],
      "metadata": {
        "colab": {
          "base_uri": "https://localhost:8080/"
        },
        "id": "_IEGotJz-edC",
        "outputId": "d3768361-3ad0-46db-e64c-73b17bbf6dbb"
      },
      "execution_count": 106,
      "outputs": [
        {
          "output_type": "execute_result",
          "data": {
            "text/plain": [
              "<tf.Tensor: shape=(3,), dtype=string, numpy=array([b'i am', b'a', b'string'], dtype=object)>"
            ]
          },
          "metadata": {},
          "execution_count": 106
        }
      ]
    },
    {
      "cell_type": "code",
      "source": [
        "joined_string = tf.strings.join(tensor_string, separator=\" + \")\n"
      ],
      "metadata": {
        "id": "bWdt6bgN--CY"
      },
      "execution_count": 109,
      "outputs": []
    },
    {
      "cell_type": "code",
      "source": [
        "print(joined_string.numpy())"
      ],
      "metadata": {
        "colab": {
          "base_uri": "https://localhost:8080/"
        },
        "id": "za0K9B3O-_ZV",
        "outputId": "054d59dd-7ae8-4d68-acf6-28c30d1e65d9"
      },
      "execution_count": 110,
      "outputs": [
        {
          "output_type": "stream",
          "name": "stdout",
          "text": [
            "b'i am + a + string'\n"
          ]
        }
      ]
    },
    {
      "cell_type": "code",
      "source": [
        "x = tf.constant([1, 2, 3, 4, 5])"
      ],
      "metadata": {
        "id": "OZ8Q8ejW_0bK"
      },
      "execution_count": 111,
      "outputs": []
    },
    {
      "cell_type": "code",
      "source": [
        "x_var = tf.Variable(x)"
      ],
      "metadata": {
        "id": "ykJlgjrWAcxM"
      },
      "execution_count": 112,
      "outputs": []
    },
    {
      "cell_type": "code",
      "source": [
        "print(x, x_var)"
      ],
      "metadata": {
        "colab": {
          "base_uri": "https://localhost:8080/"
        },
        "id": "31dU_zlWAg00",
        "outputId": "455ca466-ed4a-433f-a195-dfa131078ba5"
      },
      "execution_count": 113,
      "outputs": [
        {
          "output_type": "stream",
          "name": "stdout",
          "text": [
            "tf.Tensor([1 2 3 4 5], shape=(5,), dtype=int32) <tf.Variable 'Variable:0' shape=(5,) dtype=int32, numpy=array([1, 2, 3, 4, 5], dtype=int32)>\n"
          ]
        }
      ]
    },
    {
      "cell_type": "code",
      "source": [
        "x_var.assign_add([5, 5, 5, 5, 5])"
      ],
      "metadata": {
        "colab": {
          "base_uri": "https://localhost:8080/"
        },
        "id": "fFBDfapVAqfw",
        "outputId": "c6883ef1-c60c-49a7-851f-fd5b8b1fe976"
      },
      "execution_count": 115,
      "outputs": [
        {
          "output_type": "execute_result",
          "data": {
            "text/plain": [
              "<tf.Variable 'UnreadVariable' shape=(5,) dtype=int32, numpy=array([ 6,  7,  8,  9, 10], dtype=int32)>"
            ]
          },
          "metadata": {},
          "execution_count": 115
        }
      ]
    },
    {
      "cell_type": "code",
      "source": [
        "x_var.assign([5, 5, 5, 5, 5])"
      ],
      "metadata": {
        "colab": {
          "base_uri": "https://localhost:8080/"
        },
        "id": "Uph762qXA0uL",
        "outputId": "cd137733-1101-4847-bfd6-58db9c6fab5c"
      },
      "execution_count": 116,
      "outputs": [
        {
          "output_type": "execute_result",
          "data": {
            "text/plain": [
              "<tf.Variable 'UnreadVariable' shape=(5,) dtype=int32, numpy=array([5, 5, 5, 5, 5], dtype=int32)>"
            ]
          },
          "metadata": {},
          "execution_count": 116
        }
      ]
    }
  ]
}